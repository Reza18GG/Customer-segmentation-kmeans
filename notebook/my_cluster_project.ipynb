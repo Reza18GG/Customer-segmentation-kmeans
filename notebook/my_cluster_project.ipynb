{
  "cells": [
    {
      "cell_type": "code",
      "execution_count": null,
      "metadata": {
        "id": "mPMJ5iaDl32t"
      },
      "outputs": [],
      "source": [
        "# EDA data\n",
        "import pandas as pd\n",
        "import numpy as np\n",
        "\n",
        "# Visualization data\n",
        "import matplotlib.pyplot as plt\n",
        "\n",
        "# Normalized\n",
        "from sklearn.preprocessing import StandardScaler\n",
        "\n",
        "# PCA And T-SNE\n",
        "from sklearn.decomposition import PCA\n",
        "from sklearn.manifold import TSNE\n",
        "\n",
        "# Import Models\n",
        "from sklearn.cluster import KMeans \n",
        "\n",
        "# Evalotion\n",
        "from sklearn.metrics import silhouette_score\n",
        "\n",
        "import warnings\n",
        "warnings.filterwarnings('ignore')\n"
      ]
    },
    {
      "cell_type": "code",
      "execution_count": 2,
      "metadata": {
        "colab": {
          "base_uri": "https://localhost:8080/",
          "height": 206
        },
        "id": "0yxhgLUBnInr",
        "outputId": "aa3169a1-6a3d-4694-b2e5-c2673c161651"
      },
      "outputs": [
        {
          "data": {
            "application/vnd.microsoft.datawrangler.viewer.v0+json": {
              "columns": [
                {
                  "name": "index",
                  "rawType": "int64",
                  "type": "integer"
                },
                {
                  "name": "CustomerID",
                  "rawType": "int64",
                  "type": "integer"
                },
                {
                  "name": "Gender",
                  "rawType": "object",
                  "type": "string"
                },
                {
                  "name": "Age",
                  "rawType": "int64",
                  "type": "integer"
                },
                {
                  "name": "Annual Income (k$)",
                  "rawType": "int64",
                  "type": "integer"
                },
                {
                  "name": "Spending Score (1-100)",
                  "rawType": "int64",
                  "type": "integer"
                }
              ],
              "ref": "223a3352-76e2-4bf3-8457-29e9f7579092",
              "rows": [
                [
                  "0",
                  "1",
                  "Male",
                  "19",
                  "15",
                  "39"
                ],
                [
                  "1",
                  "2",
                  "Male",
                  "21",
                  "15",
                  "81"
                ],
                [
                  "2",
                  "3",
                  "Female",
                  "20",
                  "16",
                  "6"
                ],
                [
                  "3",
                  "4",
                  "Female",
                  "23",
                  "16",
                  "77"
                ],
                [
                  "4",
                  "5",
                  "Female",
                  "31",
                  "17",
                  "40"
                ]
              ],
              "shape": {
                "columns": 5,
                "rows": 5
              }
            },
            "text/html": [
              "<div>\n",
              "<style scoped>\n",
              "    .dataframe tbody tr th:only-of-type {\n",
              "        vertical-align: middle;\n",
              "    }\n",
              "\n",
              "    .dataframe tbody tr th {\n",
              "        vertical-align: top;\n",
              "    }\n",
              "\n",
              "    .dataframe thead th {\n",
              "        text-align: right;\n",
              "    }\n",
              "</style>\n",
              "<table border=\"1\" class=\"dataframe\">\n",
              "  <thead>\n",
              "    <tr style=\"text-align: right;\">\n",
              "      <th></th>\n",
              "      <th>CustomerID</th>\n",
              "      <th>Gender</th>\n",
              "      <th>Age</th>\n",
              "      <th>Annual Income (k$)</th>\n",
              "      <th>Spending Score (1-100)</th>\n",
              "    </tr>\n",
              "  </thead>\n",
              "  <tbody>\n",
              "    <tr>\n",
              "      <th>0</th>\n",
              "      <td>1</td>\n",
              "      <td>Male</td>\n",
              "      <td>19</td>\n",
              "      <td>15</td>\n",
              "      <td>39</td>\n",
              "    </tr>\n",
              "    <tr>\n",
              "      <th>1</th>\n",
              "      <td>2</td>\n",
              "      <td>Male</td>\n",
              "      <td>21</td>\n",
              "      <td>15</td>\n",
              "      <td>81</td>\n",
              "    </tr>\n",
              "    <tr>\n",
              "      <th>2</th>\n",
              "      <td>3</td>\n",
              "      <td>Female</td>\n",
              "      <td>20</td>\n",
              "      <td>16</td>\n",
              "      <td>6</td>\n",
              "    </tr>\n",
              "    <tr>\n",
              "      <th>3</th>\n",
              "      <td>4</td>\n",
              "      <td>Female</td>\n",
              "      <td>23</td>\n",
              "      <td>16</td>\n",
              "      <td>77</td>\n",
              "    </tr>\n",
              "    <tr>\n",
              "      <th>4</th>\n",
              "      <td>5</td>\n",
              "      <td>Female</td>\n",
              "      <td>31</td>\n",
              "      <td>17</td>\n",
              "      <td>40</td>\n",
              "    </tr>\n",
              "  </tbody>\n",
              "</table>\n",
              "</div>"
            ],
            "text/plain": [
              "   CustomerID  Gender  Age  Annual Income (k$)  Spending Score (1-100)\n",
              "0           1    Male   19                  15                      39\n",
              "1           2    Male   21                  15                      81\n",
              "2           3  Female   20                  16                       6\n",
              "3           4  Female   23                  16                      77\n",
              "4           5  Female   31                  17                      40"
            ]
          },
          "execution_count": 2,
          "metadata": {},
          "output_type": "execute_result"
        }
      ],
      "source": [
        "url = \"https://raw.githubusercontent.com/shaadclt/Customer-Segmentation-KMeansClustering/refs/heads/main/Mall_Customers.csv\"\n",
        "df = pd.read_csv(url)\n",
        "df.head()"
      ]
    },
    {
      "cell_type": "code",
      "execution_count": 3,
      "metadata": {
        "id": "BzilNrUug0Pj"
      },
      "outputs": [],
      "source": [
        "X = df.iloc[:, [3,4]]"
      ]
    },
    {
      "cell_type": "code",
      "execution_count": 4,
      "metadata": {
        "colab": {
          "base_uri": "https://localhost:8080/"
        },
        "id": "RLv8fW2gn-SJ",
        "outputId": "045797ca-b78d-4b88-9f4b-45cb3ed9c9cc"
      },
      "outputs": [
        {
          "name": "stdout",
          "output_type": "stream",
          "text": [
            "<class 'pandas.core.frame.DataFrame'>\n",
            "RangeIndex: 200 entries, 0 to 199\n",
            "Data columns (total 2 columns):\n",
            " #   Column                  Non-Null Count  Dtype\n",
            "---  ------                  --------------  -----\n",
            " 0   Annual Income (k$)      200 non-null    int64\n",
            " 1   Spending Score (1-100)  200 non-null    int64\n",
            "dtypes: int64(2)\n",
            "memory usage: 3.3 KB\n"
          ]
        }
      ],
      "source": [
        "X.info()"
      ]
    },
    {
      "cell_type": "code",
      "execution_count": 5,
      "metadata": {
        "id": "xgiFWqY_d6q6"
      },
      "outputs": [],
      "source": [
        "for col in X.columns:\n",
        "    Q1 ,Q3 = np.quantile(X[col] , [0.25 , 0.75])\n",
        "    IQR = Q3 - Q1\n",
        "\n",
        "    min_IQR = Q1 - 1.5 * IQR\n",
        "    max_IQR = Q3 + 1.5 * IQR\n",
        "\n",
        "    df.loc[X[col] > max_IQR , col] = np.nan\n",
        "    df.loc[X[col] < min_IQR , col] = np.nan\n",
        "\n",
        "df.dropna(inplace=True)"
      ]
    },
    {
      "cell_type": "code",
      "execution_count": 6,
      "metadata": {
        "id": "5id-4DhU1Maq"
      },
      "outputs": [],
      "source": [
        "scaler = StandardScaler()\n",
        "X = scaler.fit_transform(X)"
      ]
    },
    {
      "cell_type": "code",
      "execution_count": 7,
      "metadata": {
        "id": "Nf_4lsz51ee8"
      },
      "outputs": [],
      "source": [
        "pca = PCA(n_components=2)\n",
        "X = pca.fit_transform(X)"
      ]
    },
    {
      "cell_type": "code",
      "execution_count": 8,
      "metadata": {
        "colab": {
          "base_uri": "https://localhost:8080/",
          "height": 423
        },
        "id": "GQLrd9gf1nFn",
        "outputId": "533dcab7-6d40-4d98-dde7-e70b61693fc7"
      },
      "outputs": [
        {
          "data": {
            "application/vnd.microsoft.datawrangler.viewer.v0+json": {
              "columns": [
                {
                  "name": "index",
                  "rawType": "int64",
                  "type": "integer"
                },
                {
                  "name": "pca1",
                  "rawType": "float64",
                  "type": "float"
                },
                {
                  "name": "pca2",
                  "rawType": "float64",
                  "type": "float"
                },
                {
                  "name": "Costumer ID",
                  "rawType": "float64",
                  "type": "float"
                }
              ],
              "ref": "8a91dab3-2346-4cd5-908c-f8588335ac55",
              "rows": [
                [
                  "0",
                  "-1.5371091968509976",
                  "-0.9222070469387349",
                  "1.0"
                ],
                [
                  "1",
                  "-0.3841676657655048",
                  "-2.0751485780242276",
                  "2.0"
                ],
                [
                  "2",
                  "-2.41600196621679",
                  "0.010665446829817562",
                  "3.0"
                ],
                [
                  "3",
                  "-0.4669817589056006",
                  "-1.9383547604813722",
                  "4.0"
                ],
                [
                  "4",
                  "-1.455678483612869",
                  "-0.895678311371344",
                  "5.0"
                ],
                [
                  "5",
                  "-0.4674428855395895",
                  "-1.8839139094446233",
                  "6.0"
                ],
                [
                  "6",
                  "-2.36202224181403",
                  "0.06464517123257733",
                  "7.0"
                ],
                [
                  "7",
                  "0.0536647756984299",
                  "-2.351041846279883",
                  "8.0"
                ],
                [
                  "8",
                  "-2.4173853461187575",
                  "0.17398799994006425",
                  "9.0"
                ],
                [
                  "9",
                  "-0.5232671164783053",
                  "-1.7201302297003882",
                  "10.0"
                ],
                [
                  "10",
                  "-2.1154244689296995",
                  "-0.12797287724899348",
                  "11.0"
                ],
                [
                  "11",
                  "0.21790958207665437",
                  "-2.4613069282553477",
                  "12.0"
                ],
                [
                  "12",
                  "-2.060983617892951",
                  "-0.1284340038829826",
                  "13.0"
                ],
                [
                  "13",
                  "-0.35902231010008107",
                  "-1.8303953116758527",
                  "14.0"
                ],
                [
                  "14",
                  "-2.1158855955636886",
                  "-0.07353202621224493",
                  "15.0"
                ],
                [
                  "15",
                  "-0.3041203324293433",
                  "-1.8852972893465905",
                  "16.0"
                ],
                [
                  "16",
                  "-1.484973978984194",
                  "-0.6504639183889803",
                  "17.0"
                ],
                [
                  "17",
                  "-0.633993325087759",
                  "-1.5014445722854153",
                  "18.0"
                ],
                [
                  "18",
                  "-1.5957001875936474",
                  "-0.43177826097400723",
                  "19.0"
                ],
                [
                  "19",
                  "0.29841804204680483",
                  "-2.3258964906144595",
                  "20.0"
                ],
                [
                  "20",
                  "-1.4040043923800545",
                  "-0.5694943317848408",
                  "21.0"
                ],
                [
                  "21",
                  "-0.3608668166360372",
                  "-1.6126319075288578",
                  "22.0"
                ],
                [
                  "22",
                  "-2.20054419523974",
                  "0.28102519547760557",
                  "23.0"
                ],
                [
                  "23",
                  "-0.3338769544346572",
                  "-1.5856420453274778",
                  "24.0"
                ],
                [
                  "24",
                  "-1.872515709117281",
                  "0.11493588256342517",
                  "25.0"
                ],
                [
                  "25",
                  "-0.005848468312197842",
                  "-1.751731358241658",
                  "26.0"
                ],
                [
                  "26",
                  "-1.3783979100806414",
                  "-0.37918191647321453",
                  "27.0"
                ],
                [
                  "27",
                  "-0.5823192338549441",
                  "-1.175260592698912",
                  "28.0"
                ],
                [
                  "28",
                  "-1.3788590367146305",
                  "-0.3247410654364658",
                  "29.0"
                ],
                [
                  "29",
                  "0.1583963380660263",
                  "-1.8619964402171227",
                  "30.0"
                ],
                [
                  "30",
                  "-2.0930458730682098",
                  "0.4434254953198736",
                  "31.0"
                ],
                [
                  "31",
                  "-0.1989276434277579",
                  "-1.4506927343205787",
                  "32.0"
                ],
                [
                  "32",
                  "-2.01207628646407",
                  "0.524395081924013",
                  "33.0"
                ],
                [
                  "33",
                  "0.40361073104839024",
                  "-1.8912919355884479",
                  "34.0"
                ],
                [
                  "34",
                  "-1.737566398110382",
                  "0.2498851935703244",
                  "35.0"
                ],
                [
                  "35",
                  "0.10164985385933259",
                  "-1.5893310583993903",
                  "36.0"
                ],
                [
                  "36",
                  "-1.6282235694028955",
                  "0.19452208926559772",
                  "37.0"
                ],
                [
                  "37",
                  "-0.09096819462223857",
                  "-1.342733285515059",
                  "38.0"
                ],
                [
                  "38",
                  "-1.300195083280436",
                  "0.028432776351417326",
                  "39.0"
                ],
                [
                  "39",
                  "0.04490336965263878",
                  "-1.3166656765816573",
                  "40.0"
                ],
                [
                  "40",
                  "-1.0261463215607363",
                  "-0.19163626096552272",
                  "41.0"
                ],
                [
                  "41",
                  "0.5385600420552894",
                  "-1.7563426245815486",
                  "42.0"
                ],
                [
                  "42",
                  "-0.9717054705239876",
                  "-0.19209738759951173",
                  "43.0"
                ],
                [
                  "43",
                  "-0.2854307496397658",
                  "-0.8783721084837335",
                  "44.0"
                ],
                [
                  "44",
                  "-1.1913133812069387",
                  "0.027510523083439313",
                  "45.0"
                ],
                [
                  "45",
                  "-0.17562679429829034",
                  "-0.9881760638252091",
                  "46.0"
                ],
                [
                  "46",
                  "-0.4231468204505991",
                  "-0.6866763132701404",
                  "47.0"
                ],
                [
                  "47",
                  "-0.6427547311335502",
                  "-0.4670684025871894",
                  "48.0"
                ],
                [
                  "48",
                  "-0.7800096753103946",
                  "-0.329813458410345",
                  "49.0"
                ],
                [
                  "49",
                  "-0.7800096753103946",
                  "-0.329813458410345",
                  "50.0"
                ]
              ],
              "shape": {
                "columns": 3,
                "rows": 200
              }
            },
            "text/html": [
              "<div>\n",
              "<style scoped>\n",
              "    .dataframe tbody tr th:only-of-type {\n",
              "        vertical-align: middle;\n",
              "    }\n",
              "\n",
              "    .dataframe tbody tr th {\n",
              "        vertical-align: top;\n",
              "    }\n",
              "\n",
              "    .dataframe thead th {\n",
              "        text-align: right;\n",
              "    }\n",
              "</style>\n",
              "<table border=\"1\" class=\"dataframe\">\n",
              "  <thead>\n",
              "    <tr style=\"text-align: right;\">\n",
              "      <th></th>\n",
              "      <th>pca1</th>\n",
              "      <th>pca2</th>\n",
              "      <th>Costumer ID</th>\n",
              "    </tr>\n",
              "  </thead>\n",
              "  <tbody>\n",
              "    <tr>\n",
              "      <th>0</th>\n",
              "      <td>-1.537109</td>\n",
              "      <td>-0.922207</td>\n",
              "      <td>1.0</td>\n",
              "    </tr>\n",
              "    <tr>\n",
              "      <th>1</th>\n",
              "      <td>-0.384168</td>\n",
              "      <td>-2.075149</td>\n",
              "      <td>2.0</td>\n",
              "    </tr>\n",
              "    <tr>\n",
              "      <th>2</th>\n",
              "      <td>-2.416002</td>\n",
              "      <td>0.010665</td>\n",
              "      <td>3.0</td>\n",
              "    </tr>\n",
              "    <tr>\n",
              "      <th>3</th>\n",
              "      <td>-0.466982</td>\n",
              "      <td>-1.938355</td>\n",
              "      <td>4.0</td>\n",
              "    </tr>\n",
              "    <tr>\n",
              "      <th>4</th>\n",
              "      <td>-1.455678</td>\n",
              "      <td>-0.895678</td>\n",
              "      <td>5.0</td>\n",
              "    </tr>\n",
              "    <tr>\n",
              "      <th>...</th>\n",
              "      <td>...</td>\n",
              "      <td>...</td>\n",
              "      <td>...</td>\n",
              "    </tr>\n",
              "    <tr>\n",
              "      <th>195</th>\n",
              "      <td>2.394866</td>\n",
              "      <td>0.813689</td>\n",
              "      <td>196.0</td>\n",
              "    </tr>\n",
              "    <tr>\n",
              "      <th>196</th>\n",
              "      <td>1.156805</td>\n",
              "      <td>2.375629</td>\n",
              "      <td>197.0</td>\n",
              "    </tr>\n",
              "    <tr>\n",
              "      <th>197</th>\n",
              "      <td>2.419550</td>\n",
              "      <td>1.112883</td>\n",
              "      <td>198.0</td>\n",
              "    </tr>\n",
              "    <tr>\n",
              "      <th>198</th>\n",
              "      <td>1.179183</td>\n",
              "      <td>2.947027</td>\n",
              "      <td>NaN</td>\n",
              "    </tr>\n",
              "    <tr>\n",
              "      <th>199</th>\n",
              "      <td>2.963498</td>\n",
              "      <td>1.162713</td>\n",
              "      <td>NaN</td>\n",
              "    </tr>\n",
              "  </tbody>\n",
              "</table>\n",
              "<p>200 rows × 3 columns</p>\n",
              "</div>"
            ],
            "text/plain": [
              "         pca1      pca2  Costumer ID\n",
              "0   -1.537109 -0.922207          1.0\n",
              "1   -0.384168 -2.075149          2.0\n",
              "2   -2.416002  0.010665          3.0\n",
              "3   -0.466982 -1.938355          4.0\n",
              "4   -1.455678 -0.895678          5.0\n",
              "..        ...       ...          ...\n",
              "195  2.394866  0.813689        196.0\n",
              "196  1.156805  2.375629        197.0\n",
              "197  2.419550  1.112883        198.0\n",
              "198  1.179183  2.947027          NaN\n",
              "199  2.963498  1.162713          NaN\n",
              "\n",
              "[200 rows x 3 columns]"
            ]
          },
          "execution_count": 8,
          "metadata": {},
          "output_type": "execute_result"
        }
      ],
      "source": [
        "df_pca = pd.DataFrame(X , columns=['pca1' , 'pca2'])\n",
        "df_pca['Costumer ID'] = df['CustomerID']\n",
        "\n",
        "df_pca"
      ]
    },
    {
      "cell_type": "code",
      "execution_count": 9,
      "metadata": {
        "id": "FnxjxU7GFY9_"
      },
      "outputs": [],
      "source": [
        "df_pca.dropna(inplace=True)"
      ]
    },
    {
      "cell_type": "code",
      "execution_count": 10,
      "metadata": {
        "colab": {
          "base_uri": "https://localhost:8080/",
          "height": 641
        },
        "id": "hS9L-e-f25YP",
        "outputId": "984eebd0-623e-4c4c-b6ab-1f914d17dfe1"
      },
      "outputs": [
        {
          "data": {
            "image/png": "[encoded data removed]",
            "text/plain": [
              "<Figure size 1000x700 with 1 Axes>"
            ]
          },
          "metadata": {},
          "output_type": "display_data"
        }
      ],
      "source": [
        "plt.figure(figsize=(10,7))\n",
        "plt.scatter(df_pca['pca1'] , df_pca['pca2'])\n",
        "\n",
        "plt.xlabel('Principal Component 1')\n",
        "plt.ylabel('Principal Component 2')\n",
        "\n",
        "plt.title(\"Before Data PCA\")\n",
        "plt.grid(True)\n",
        "plt.show();"
      ]
    },
    {
      "cell_type": "code",
      "execution_count": 11,
      "metadata": {
        "id": "cT4Jn4QQuqAV"
      },
      "outputs": [],
      "source": [
        "wcss = []\n",
        "for i in range(1 ,11):\n",
        "    kmeans = KMeans(n_clusters=i , init='k-means++' , random_state=42)\n",
        "    kmeans.fit(df_pca)\n",
        "    wcss.append(kmeans.inertia_)"
      ]
    },
    {
      "cell_type": "code",
      "execution_count": 12,
      "metadata": {
        "colab": {
          "base_uri": "https://localhost:8080/",
          "height": 472
        },
        "id": "ETeQjw9nu3ML",
        "outputId": "38551575-e01a-41ff-b3f0-38539732d300"
      },
      "outputs": [
        {
          "data": {
            "image/png": "[encoded data removed]",
            "text/plain": [
              "<Figure size 640x480 with 1 Axes>"
            ]
          },
          "metadata": {},
          "output_type": "display_data"
        }
      ],
      "source": [
        "plt.plot(range(1,11) , wcss)\n",
        "plt.title('The Elbow Method')\n",
        "plt.xlabel('Number of clusters')\n",
        "plt.ylabel('WCSS')\n",
        "plt.show();"
      ]
    },
    {
      "cell_type": "code",
      "execution_count": 13,
      "metadata": {
        "id": "dFUW4ab9vEBV"
      },
      "outputs": [],
      "source": [
        "kmeans = KMeans(n_clusters=5 , init='k-means++' , random_state=42)\n",
        "labels = kmeans.fit_predict(df_pca[['pca1', 'pca2']])"
      ]
    },
    {
      "cell_type": "code",
      "execution_count": 14,
      "metadata": {
        "colab": {
          "base_uri": "https://localhost:8080/"
        },
        "id": "JLlBheuVw0iH",
        "outputId": "1fbb516c-f31e-4463-f2d3-992c9bb80d0e"
      },
      "outputs": [
        {
          "name": "stdout",
          "output_type": "stream",
          "text": [
            "Silhouette Score : 0.5612768693602196\n",
            "\n"
          ]
        }
      ],
      "source": [
        "sil_score = silhouette_score(df_pca[[\"pca1\" , \"pca2\"]] , labels)\n",
        "print(f\"Silhouette Score : {sil_score}\\n\")"
      ]
    },
    {
      "cell_type": "code",
      "execution_count": 18,
      "metadata": {
        "colab": {
          "base_uri": "https://localhost:8080/",
          "height": 472
        },
        "id": "jErm-Z0uvUXX",
        "outputId": "a6181b02-d676-4e2a-d843-92bd62a1e9bc"
      },
      "outputs": [
        {
          "data": {
            "image/png": "[encoded data removed]",
            "text/plain": [
              "<Figure size 1200x700 with 1 Axes>"
            ]
          },
          "metadata": {},
          "output_type": "display_data"
        }
      ],
      "source": [
        "plt.figure(figsize=(12,7))\n",
        "plt.scatter(df_pca.loc[labels == 0, 'pca1'] , df_pca.loc[labels == 0 ,'pca2'] , s = 50 , c=\"red\" , label=\"Cluster 1\")\n",
        "plt.scatter(df_pca.loc[labels == 1, 'pca1'] , df_pca.loc[labels == 1 ,'pca2'] , s = 50 , c=\"blue\" , label=\"Cluster 2\")\n",
        "plt.scatter(df_pca.loc[labels == 2, 'pca1'] , df_pca.loc[labels == 2 ,'pca2'] , s = 50 , c=\"green\" , label=\"Cluster 3\")\n",
        "plt.scatter(df_pca.loc[labels == 3, 'pca1'] , df_pca.loc[labels == 3 ,'pca2'] , s = 50 , c=\"black\" , label=\"Cluster 4\")\n",
        "plt.scatter(df_pca.loc[labels == 4, 'pca1'] , df_pca.loc[labels == 4 ,'pca2'] , s = 50 , c=\"yellow\" , label=\"Cluster 5\")\n",
        "\n",
        "plt.scatter(kmeans.cluster_centers_[:,0] , kmeans.cluster_centers_[:,1] , s = 100 , c=\"cyan\" , label=\"Centroids\")\n",
        "\n",
        "plt.title('Cluster of Customers')\n",
        "plt.xlabel('Principal Component 1') # Updated label to reflect PCA\n",
        "plt.ylabel('Principal Component 2') # Updated label to reflect PCA\n",
        "plt.legend()\n",
        "plt.show();"
      ]
    },
    {
      "cell_type": "code",
      "execution_count": 16,
      "metadata": {
        "id": "m9ub-cidIOZ4"
      },
      "outputs": [],
      "source": [
        "# The End"
      ]
    },
    {
      "cell_type": "markdown",
      "metadata": {
        "id": "PQ2CEj4UIR22"
      },
      "source": [
        "## خیلی سعی کردم که داده هام رو هم بتونم روی\n",
        "## dbscan\n",
        "# بتونم مدل کنم اما نشد"
      ]
    }
  ],
  "metadata": {
    "colab": {
      "provenance": []
    },
    "kernelspec": {
      "display_name": "base",
      "language": "python",
      "name": "python3"
    },
    "language_info": {
      "codemirror_mode": {
        "name": "ipython",
        "version": 3
      },
      "file_extension": ".py",
      "mimetype": "text/x-python",
      "name": "python",
      "nbconvert_exporter": "python",
      "pygments_lexer": "ipython3",
      "version": "3.12.7"
    }
  },
  "nbformat": 4,
  "nbformat_minor": 0
}
